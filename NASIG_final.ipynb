{
 "cells": [
  {
   "cell_type": "markdown",
   "metadata": {},
   "source": [
    "# Disclaimer about my data"
   ]
  },
  {
   "cell_type": "markdown",
   "metadata": {},
   "source": [
    "- NORTH KOREA and SOUTH KOREA have yet to be untangled, which is why their counts are artificially low\n",
    "- \"catkey\" column is our local record number\n",
    "- country codes and regions come from this dataset : https://www.kaggle.com/petersorensen360/iso3166countrieswithregionalcodes\n"
   ]
  },
  {
   "cell_type": "markdown",
   "metadata": {},
   "source": [
    "# Import Packages I need"
   ]
  },
  {
   "cell_type": "code",
   "execution_count": 108,
   "metadata": {},
   "outputs": [],
   "source": [
    "import numpy as np\n",
    "import pandas as pd\n",
    "import matplotlib as plt"
   ]
  },
  {
   "cell_type": "markdown",
   "metadata": {},
   "source": [
    "# Set up the Data"
   ]
  },
  {
   "cell_type": "code",
   "execution_count": 39,
   "metadata": {},
   "outputs": [],
   "source": [
    "# create a dataframe from my csv \n",
    "# define datatype = string for all columns (won't need to do any math with the numbers)\n",
    "df_final = pd.read_csv('NASIG_final.csv', dtype='str', header=0)"
   ]
  },
  {
   "cell_type": "code",
   "execution_count": 40,
   "metadata": {},
   "outputs": [
    {
     "name": "stdout",
     "output_type": "stream",
     "text": [
      "catkey\n",
      "geoname\n",
      "country\n",
      "name\n",
      "alpha-2\n",
      "alpha-3\n",
      "country-code\n",
      "iso_3166-2\n",
      "region\n",
      "sub-region\n",
      "intermediate-region\n",
      "region-code\n",
      "sub-region-code\n",
      "intermediate-region-code\n"
     ]
    }
   ],
   "source": [
    "# check column names for df_final dataframe\n",
    "for col in df_final.columns:\n",
    "    print(col)"
   ]
  },
  {
   "cell_type": "code",
   "execution_count": 77,
   "metadata": {},
   "outputs": [
    {
     "data": {
      "text/html": [
       "<div>\n",
       "<style scoped>\n",
       "    .dataframe tbody tr th:only-of-type {\n",
       "        vertical-align: middle;\n",
       "    }\n",
       "\n",
       "    .dataframe tbody tr th {\n",
       "        vertical-align: top;\n",
       "    }\n",
       "\n",
       "    .dataframe thead th {\n",
       "        text-align: right;\n",
       "    }\n",
       "</style>\n",
       "<table border=\"1\" class=\"dataframe\">\n",
       "  <thead>\n",
       "    <tr style=\"text-align: right;\">\n",
       "      <th></th>\n",
       "      <th>catkey</th>\n",
       "      <th>geoname</th>\n",
       "      <th>country</th>\n",
       "      <th>name</th>\n",
       "      <th>alpha-2</th>\n",
       "      <th>alpha-3</th>\n",
       "      <th>country-code</th>\n",
       "      <th>iso_3166-2</th>\n",
       "      <th>region</th>\n",
       "      <th>sub-region</th>\n",
       "      <th>intermediate-region</th>\n",
       "      <th>region-code</th>\n",
       "      <th>sub-region-code</th>\n",
       "      <th>intermediate-region-code</th>\n",
       "    </tr>\n",
       "  </thead>\n",
       "  <tbody>\n",
       "    <tr>\n",
       "      <td>0</td>\n",
       "      <td>11</td>\n",
       "      <td>Maritime Provinces</td>\n",
       "      <td>NaN</td>\n",
       "      <td>NaN</td>\n",
       "      <td>NaN</td>\n",
       "      <td>NaN</td>\n",
       "      <td>NaN</td>\n",
       "      <td>NaN</td>\n",
       "      <td>NaN</td>\n",
       "      <td>NaN</td>\n",
       "      <td>NaN</td>\n",
       "      <td>NaN</td>\n",
       "      <td>NaN</td>\n",
       "      <td>NaN</td>\n",
       "    </tr>\n",
       "    <tr>\n",
       "      <td>1</td>\n",
       "      <td>26</td>\n",
       "      <td>United States</td>\n",
       "      <td>United States of America</td>\n",
       "      <td>United States of America</td>\n",
       "      <td>US</td>\n",
       "      <td>USA</td>\n",
       "      <td>840</td>\n",
       "      <td>ISO 3166-2:US</td>\n",
       "      <td>Americas</td>\n",
       "      <td>Northern America</td>\n",
       "      <td>NaN</td>\n",
       "      <td>19</td>\n",
       "      <td>21</td>\n",
       "      <td>NaN</td>\n",
       "    </tr>\n",
       "    <tr>\n",
       "      <td>2</td>\n",
       "      <td>26</td>\n",
       "      <td>Europe</td>\n",
       "      <td>NaN</td>\n",
       "      <td>NaN</td>\n",
       "      <td>NaN</td>\n",
       "      <td>NaN</td>\n",
       "      <td>NaN</td>\n",
       "      <td>NaN</td>\n",
       "      <td>NaN</td>\n",
       "      <td>NaN</td>\n",
       "      <td>NaN</td>\n",
       "      <td>NaN</td>\n",
       "      <td>NaN</td>\n",
       "      <td>NaN</td>\n",
       "    </tr>\n",
       "    <tr>\n",
       "      <td>3</td>\n",
       "      <td>198</td>\n",
       "      <td>United States</td>\n",
       "      <td>United States of America</td>\n",
       "      <td>United States of America</td>\n",
       "      <td>US</td>\n",
       "      <td>USA</td>\n",
       "      <td>840</td>\n",
       "      <td>ISO 3166-2:US</td>\n",
       "      <td>Americas</td>\n",
       "      <td>Northern America</td>\n",
       "      <td>NaN</td>\n",
       "      <td>19</td>\n",
       "      <td>21</td>\n",
       "      <td>NaN</td>\n",
       "    </tr>\n",
       "    <tr>\n",
       "      <td>4</td>\n",
       "      <td>214</td>\n",
       "      <td>Canada</td>\n",
       "      <td>Canada</td>\n",
       "      <td>Canada</td>\n",
       "      <td>CA</td>\n",
       "      <td>CAN</td>\n",
       "      <td>124</td>\n",
       "      <td>ISO 3166-2:CA</td>\n",
       "      <td>Americas</td>\n",
       "      <td>Northern America</td>\n",
       "      <td>NaN</td>\n",
       "      <td>19</td>\n",
       "      <td>21</td>\n",
       "      <td>NaN</td>\n",
       "    </tr>\n",
       "    <tr>\n",
       "      <td>5</td>\n",
       "      <td>214</td>\n",
       "      <td>Canada</td>\n",
       "      <td>Canada</td>\n",
       "      <td>Canada</td>\n",
       "      <td>CA</td>\n",
       "      <td>CAN</td>\n",
       "      <td>124</td>\n",
       "      <td>ISO 3166-2:CA</td>\n",
       "      <td>Americas</td>\n",
       "      <td>Northern America</td>\n",
       "      <td>NaN</td>\n",
       "      <td>19</td>\n",
       "      <td>21</td>\n",
       "      <td>NaN</td>\n",
       "    </tr>\n",
       "    <tr>\n",
       "      <td>6</td>\n",
       "      <td>215</td>\n",
       "      <td>Canada</td>\n",
       "      <td>Canada</td>\n",
       "      <td>Canada</td>\n",
       "      <td>CA</td>\n",
       "      <td>CAN</td>\n",
       "      <td>124</td>\n",
       "      <td>ISO 3166-2:CA</td>\n",
       "      <td>Americas</td>\n",
       "      <td>Northern America</td>\n",
       "      <td>NaN</td>\n",
       "      <td>19</td>\n",
       "      <td>21</td>\n",
       "      <td>NaN</td>\n",
       "    </tr>\n",
       "    <tr>\n",
       "      <td>7</td>\n",
       "      <td>215</td>\n",
       "      <td>Canada</td>\n",
       "      <td>Canada</td>\n",
       "      <td>Canada</td>\n",
       "      <td>CA</td>\n",
       "      <td>CAN</td>\n",
       "      <td>124</td>\n",
       "      <td>ISO 3166-2:CA</td>\n",
       "      <td>Americas</td>\n",
       "      <td>Northern America</td>\n",
       "      <td>NaN</td>\n",
       "      <td>19</td>\n",
       "      <td>21</td>\n",
       "      <td>NaN</td>\n",
       "    </tr>\n",
       "    <tr>\n",
       "      <td>8</td>\n",
       "      <td>216</td>\n",
       "      <td>Canada</td>\n",
       "      <td>Canada</td>\n",
       "      <td>Canada</td>\n",
       "      <td>CA</td>\n",
       "      <td>CAN</td>\n",
       "      <td>124</td>\n",
       "      <td>ISO 3166-2:CA</td>\n",
       "      <td>Americas</td>\n",
       "      <td>Northern America</td>\n",
       "      <td>NaN</td>\n",
       "      <td>19</td>\n",
       "      <td>21</td>\n",
       "      <td>NaN</td>\n",
       "    </tr>\n",
       "    <tr>\n",
       "      <td>9</td>\n",
       "      <td>216</td>\n",
       "      <td>Canada</td>\n",
       "      <td>Canada</td>\n",
       "      <td>Canada</td>\n",
       "      <td>CA</td>\n",
       "      <td>CAN</td>\n",
       "      <td>124</td>\n",
       "      <td>ISO 3166-2:CA</td>\n",
       "      <td>Americas</td>\n",
       "      <td>Northern America</td>\n",
       "      <td>NaN</td>\n",
       "      <td>19</td>\n",
       "      <td>21</td>\n",
       "      <td>NaN</td>\n",
       "    </tr>\n",
       "    <tr>\n",
       "      <td>10</td>\n",
       "      <td>236</td>\n",
       "      <td>New York (N.Y.)</td>\n",
       "      <td>NaN</td>\n",
       "      <td>NaN</td>\n",
       "      <td>NaN</td>\n",
       "      <td>NaN</td>\n",
       "      <td>NaN</td>\n",
       "      <td>NaN</td>\n",
       "      <td>NaN</td>\n",
       "      <td>NaN</td>\n",
       "      <td>NaN</td>\n",
       "      <td>NaN</td>\n",
       "      <td>NaN</td>\n",
       "      <td>NaN</td>\n",
       "    </tr>\n",
       "    <tr>\n",
       "      <td>11</td>\n",
       "      <td>274</td>\n",
       "      <td>Italy</td>\n",
       "      <td>Italy</td>\n",
       "      <td>Italy</td>\n",
       "      <td>IT</td>\n",
       "      <td>ITA</td>\n",
       "      <td>380</td>\n",
       "      <td>ISO 3166-2:IT</td>\n",
       "      <td>Europe</td>\n",
       "      <td>Southern Europe</td>\n",
       "      <td>NaN</td>\n",
       "      <td>150</td>\n",
       "      <td>39</td>\n",
       "      <td>NaN</td>\n",
       "    </tr>\n",
       "    <tr>\n",
       "      <td>12</td>\n",
       "      <td>304</td>\n",
       "      <td>Crete (Greece)</td>\n",
       "      <td>Greece</td>\n",
       "      <td>Greece</td>\n",
       "      <td>GR</td>\n",
       "      <td>GRC</td>\n",
       "      <td>300</td>\n",
       "      <td>ISO 3166-2:GR</td>\n",
       "      <td>Europe</td>\n",
       "      <td>Southern Europe</td>\n",
       "      <td>NaN</td>\n",
       "      <td>150</td>\n",
       "      <td>39</td>\n",
       "      <td>NaN</td>\n",
       "    </tr>\n",
       "    <tr>\n",
       "      <td>13</td>\n",
       "      <td>309</td>\n",
       "      <td>Germany</td>\n",
       "      <td>Germany</td>\n",
       "      <td>Germany</td>\n",
       "      <td>DE</td>\n",
       "      <td>DEU</td>\n",
       "      <td>276</td>\n",
       "      <td>ISO 3166-2:DE</td>\n",
       "      <td>Europe</td>\n",
       "      <td>Western Europe</td>\n",
       "      <td>NaN</td>\n",
       "      <td>150</td>\n",
       "      <td>155</td>\n",
       "      <td>NaN</td>\n",
       "    </tr>\n",
       "    <tr>\n",
       "      <td>14</td>\n",
       "      <td>310</td>\n",
       "      <td>Germany</td>\n",
       "      <td>Germany</td>\n",
       "      <td>Germany</td>\n",
       "      <td>DE</td>\n",
       "      <td>DEU</td>\n",
       "      <td>276</td>\n",
       "      <td>ISO 3166-2:DE</td>\n",
       "      <td>Europe</td>\n",
       "      <td>Western Europe</td>\n",
       "      <td>NaN</td>\n",
       "      <td>150</td>\n",
       "      <td>155</td>\n",
       "      <td>NaN</td>\n",
       "    </tr>\n",
       "    <tr>\n",
       "      <td>15</td>\n",
       "      <td>313</td>\n",
       "      <td>Czech Republic</td>\n",
       "      <td>Czechia</td>\n",
       "      <td>Czechia</td>\n",
       "      <td>CZ</td>\n",
       "      <td>CZE</td>\n",
       "      <td>203</td>\n",
       "      <td>ISO 3166-2:CZ</td>\n",
       "      <td>Europe</td>\n",
       "      <td>Eastern Europe</td>\n",
       "      <td>NaN</td>\n",
       "      <td>150</td>\n",
       "      <td>151</td>\n",
       "      <td>NaN</td>\n",
       "    </tr>\n",
       "    <tr>\n",
       "      <td>16</td>\n",
       "      <td>313</td>\n",
       "      <td>Czech Republic</td>\n",
       "      <td>Czechia</td>\n",
       "      <td>Czechia</td>\n",
       "      <td>CZ</td>\n",
       "      <td>CZE</td>\n",
       "      <td>203</td>\n",
       "      <td>ISO 3166-2:CZ</td>\n",
       "      <td>Europe</td>\n",
       "      <td>Eastern Europe</td>\n",
       "      <td>NaN</td>\n",
       "      <td>150</td>\n",
       "      <td>151</td>\n",
       "      <td>NaN</td>\n",
       "    </tr>\n",
       "    <tr>\n",
       "      <td>17</td>\n",
       "      <td>373</td>\n",
       "      <td>Yugoslavia</td>\n",
       "      <td>NaN</td>\n",
       "      <td>NaN</td>\n",
       "      <td>NaN</td>\n",
       "      <td>NaN</td>\n",
       "      <td>NaN</td>\n",
       "      <td>NaN</td>\n",
       "      <td>NaN</td>\n",
       "      <td>NaN</td>\n",
       "      <td>NaN</td>\n",
       "      <td>NaN</td>\n",
       "      <td>NaN</td>\n",
       "      <td>NaN</td>\n",
       "    </tr>\n",
       "    <tr>\n",
       "      <td>18</td>\n",
       "      <td>382</td>\n",
       "      <td>Atlantic Provinces</td>\n",
       "      <td>NaN</td>\n",
       "      <td>NaN</td>\n",
       "      <td>NaN</td>\n",
       "      <td>NaN</td>\n",
       "      <td>NaN</td>\n",
       "      <td>NaN</td>\n",
       "      <td>NaN</td>\n",
       "      <td>NaN</td>\n",
       "      <td>NaN</td>\n",
       "      <td>NaN</td>\n",
       "      <td>NaN</td>\n",
       "      <td>NaN</td>\n",
       "    </tr>\n",
       "    <tr>\n",
       "      <td>19</td>\n",
       "      <td>384</td>\n",
       "      <td>West Indies</td>\n",
       "      <td>NaN</td>\n",
       "      <td>NaN</td>\n",
       "      <td>NaN</td>\n",
       "      <td>NaN</td>\n",
       "      <td>NaN</td>\n",
       "      <td>NaN</td>\n",
       "      <td>NaN</td>\n",
       "      <td>NaN</td>\n",
       "      <td>NaN</td>\n",
       "      <td>NaN</td>\n",
       "      <td>NaN</td>\n",
       "      <td>NaN</td>\n",
       "    </tr>\n",
       "  </tbody>\n",
       "</table>\n",
       "</div>"
      ],
      "text/plain": [
       "   catkey             geoname                   country  \\\n",
       "0      11  Maritime Provinces                       NaN   \n",
       "1      26       United States  United States of America   \n",
       "2      26              Europe                       NaN   \n",
       "3     198       United States  United States of America   \n",
       "4     214              Canada                    Canada   \n",
       "5     214              Canada                    Canada   \n",
       "6     215              Canada                    Canada   \n",
       "7     215              Canada                    Canada   \n",
       "8     216              Canada                    Canada   \n",
       "9     216              Canada                    Canada   \n",
       "10    236     New York (N.Y.)                       NaN   \n",
       "11    274               Italy                     Italy   \n",
       "12    304      Crete (Greece)                    Greece   \n",
       "13    309             Germany                   Germany   \n",
       "14    310             Germany                   Germany   \n",
       "15    313      Czech Republic                   Czechia   \n",
       "16    313      Czech Republic                   Czechia   \n",
       "17    373          Yugoslavia                       NaN   \n",
       "18    382  Atlantic Provinces                       NaN   \n",
       "19    384         West Indies                       NaN   \n",
       "\n",
       "                        name alpha-2 alpha-3 country-code     iso_3166-2  \\\n",
       "0                        NaN     NaN     NaN          NaN            NaN   \n",
       "1   United States of America      US     USA          840  ISO 3166-2:US   \n",
       "2                        NaN     NaN     NaN          NaN            NaN   \n",
       "3   United States of America      US     USA          840  ISO 3166-2:US   \n",
       "4                     Canada      CA     CAN          124  ISO 3166-2:CA   \n",
       "5                     Canada      CA     CAN          124  ISO 3166-2:CA   \n",
       "6                     Canada      CA     CAN          124  ISO 3166-2:CA   \n",
       "7                     Canada      CA     CAN          124  ISO 3166-2:CA   \n",
       "8                     Canada      CA     CAN          124  ISO 3166-2:CA   \n",
       "9                     Canada      CA     CAN          124  ISO 3166-2:CA   \n",
       "10                       NaN     NaN     NaN          NaN            NaN   \n",
       "11                     Italy      IT     ITA          380  ISO 3166-2:IT   \n",
       "12                    Greece      GR     GRC          300  ISO 3166-2:GR   \n",
       "13                   Germany      DE     DEU          276  ISO 3166-2:DE   \n",
       "14                   Germany      DE     DEU          276  ISO 3166-2:DE   \n",
       "15                   Czechia      CZ     CZE          203  ISO 3166-2:CZ   \n",
       "16                   Czechia      CZ     CZE          203  ISO 3166-2:CZ   \n",
       "17                       NaN     NaN     NaN          NaN            NaN   \n",
       "18                       NaN     NaN     NaN          NaN            NaN   \n",
       "19                       NaN     NaN     NaN          NaN            NaN   \n",
       "\n",
       "      region        sub-region intermediate-region region-code  \\\n",
       "0        NaN               NaN                 NaN         NaN   \n",
       "1   Americas  Northern America                 NaN          19   \n",
       "2        NaN               NaN                 NaN         NaN   \n",
       "3   Americas  Northern America                 NaN          19   \n",
       "4   Americas  Northern America                 NaN          19   \n",
       "5   Americas  Northern America                 NaN          19   \n",
       "6   Americas  Northern America                 NaN          19   \n",
       "7   Americas  Northern America                 NaN          19   \n",
       "8   Americas  Northern America                 NaN          19   \n",
       "9   Americas  Northern America                 NaN          19   \n",
       "10       NaN               NaN                 NaN         NaN   \n",
       "11    Europe   Southern Europe                 NaN         150   \n",
       "12    Europe   Southern Europe                 NaN         150   \n",
       "13    Europe    Western Europe                 NaN         150   \n",
       "14    Europe    Western Europe                 NaN         150   \n",
       "15    Europe    Eastern Europe                 NaN         150   \n",
       "16    Europe    Eastern Europe                 NaN         150   \n",
       "17       NaN               NaN                 NaN         NaN   \n",
       "18       NaN               NaN                 NaN         NaN   \n",
       "19       NaN               NaN                 NaN         NaN   \n",
       "\n",
       "   sub-region-code intermediate-region-code  \n",
       "0              NaN                      NaN  \n",
       "1               21                      NaN  \n",
       "2              NaN                      NaN  \n",
       "3               21                      NaN  \n",
       "4               21                      NaN  \n",
       "5               21                      NaN  \n",
       "6               21                      NaN  \n",
       "7               21                      NaN  \n",
       "8               21                      NaN  \n",
       "9               21                      NaN  \n",
       "10             NaN                      NaN  \n",
       "11              39                      NaN  \n",
       "12              39                      NaN  \n",
       "13             155                      NaN  \n",
       "14             155                      NaN  \n",
       "15             151                      NaN  \n",
       "16             151                      NaN  \n",
       "17             NaN                      NaN  \n",
       "18             NaN                      NaN  \n",
       "19             NaN                      NaN  "
      ]
     },
     "execution_count": 77,
     "metadata": {},
     "output_type": "execute_result"
    }
   ],
   "source": [
    "# look at the first 20 rows of the dataframe\n",
    "# confirm that the NULL values came over as null (they did)\n",
    "df_final.head(20)"
   ]
  },
  {
   "cell_type": "code",
   "execution_count": null,
   "metadata": {},
   "outputs": [],
   "source": []
  },
  {
   "cell_type": "markdown",
   "metadata": {},
   "source": [
    "# START ANSWERING QUESTIONS!"
   ]
  },
  {
   "cell_type": "markdown",
   "metadata": {},
   "source": [
    "## Which countries occur most / least frequently?"
   ]
  },
  {
   "cell_type": "code",
   "execution_count": 42,
   "metadata": {
    "scrolled": true
   },
   "outputs": [
    {
     "data": {
      "text/plain": [
       "United States of America                                256733\n",
       "United Kingdom of Great Britain and Northern Ireland    187177\n",
       "China                                                   159162\n",
       "France                                                  108229\n",
       "Japan                                                    88043\n",
       "                                                         ...  \n",
       "Cocos (Keeling) Islands                                      3\n",
       "North Korea                                                  3\n",
       "Saint Barthélemy                                             2\n",
       "Sint Maarten (Dutch part)                                    1\n",
       "São Tomé and Príncipe                                        1\n",
       "Name: country, Length: 248, dtype: int64"
      ]
     },
     "execution_count": 42,
     "metadata": {},
     "output_type": "execute_result"
    }
   ],
   "source": [
    "# count the total number of times each country occurs\n",
    "# use 'df_final['country'].value_counts()[:50]' if you want to see only the top 50 , etc.\n",
    "df_final['country'].value_counts()"
   ]
  },
  {
   "cell_type": "markdown",
   "metadata": {},
   "source": [
    "## Which countries are best / worst represented when measuring by titles?"
   ]
  },
  {
   "cell_type": "code",
   "execution_count": 86,
   "metadata": {},
   "outputs": [
    {
     "name": "stdout",
     "output_type": "stream",
     "text": [
      "country\n",
      "Afghanistan              6364\n",
      "Albania                   852\n",
      "Alger                    5238\n",
      "American Samoa             69\n",
      "Andorra                    71\n",
      "                         ... \n",
      "Virgin Islands (U.S.)     217\n",
      "Wallis and Futuna          19\n",
      "Yemen                    1822\n",
      "Zambia                    534\n",
      "Zimbabwe                  956\n",
      "Name: catkey, Length: 248, dtype: int64\n"
     ]
    }
   ],
   "source": [
    "# create a new dataframe with the count of unique catkeys for each country \n",
    "# (in other words, how many bibs total contain a subject from each country)\n",
    "df_uni_countries = df_final.groupby('country')['catkey'].nunique()\n",
    "print(df_uni_countries)"
   ]
  },
  {
   "cell_type": "code",
   "execution_count": 96,
   "metadata": {},
   "outputs": [
    {
     "name": "stdout",
     "output_type": "stream",
     "text": [
      "                                               country  catkey\n",
      "235                           United States of America  199129\n",
      "234  United Kingdom of Great Britain and Northern I...  139479\n",
      "44                                               China  103723\n",
      "72                                              France   78315\n",
      "39                                              Canada   63058\n",
      "..                                                 ...     ...\n",
      "161                                        North Korea       3\n",
      "45                             Cocos (Keeling) Islands       3\n",
      "183                                   Saint Barthélemy       2\n",
      "199                          Sint Maarten (Dutch part)       1\n",
      "216                              São Tomé and Príncipe       1\n",
      "\n",
      "[248 rows x 2 columns]\n"
     ]
    }
   ],
   "source": [
    "# order by catkey column (which should actually be called \"count_unique_catkey\")\n",
    "df_uni_countries = df_final.groupby('country')['catkey'].nunique().reset_index().sort_values(\"catkey\", ascending=False)\n",
    "print(df_uni_countries)"
   ]
  },
  {
   "cell_type": "code",
   "execution_count": 85,
   "metadata": {},
   "outputs": [
    {
     "name": "stdout",
     "output_type": "stream",
     "text": [
      "                                               country  count_unique_catkey\n",
      "235                           United States of America               199129\n",
      "234  United Kingdom of Great Britain and Northern I...               139479\n",
      "44                                               China               103723\n",
      "72                                              France                78315\n",
      "39                                              Canada                63058\n",
      "..                                                 ...                  ...\n",
      "161                                        North Korea                    3\n",
      "45                             Cocos (Keeling) Islands                    3\n",
      "183                                   Saint Barthélemy                    2\n",
      "199                          Sint Maarten (Dutch part)                    1\n",
      "216                              São Tomé and Príncipe                    1\n",
      "\n",
      "[248 rows x 2 columns]\n"
     ]
    }
   ],
   "source": [
    "# create my final dataframe which has the count in order and the column name changed to \"count_unique_catkey\"\n",
    "df_uni_countries = df_final.groupby('country')['catkey'].nunique().reset_index().sort_values(\"catkey\", ascending=False)\n",
    "df_unicon_final = df_uni_countries.rename(columns={\"country\": \"country\", \"catkey\": \"count_unique_catkey\"})\n",
    "print(df_unicon_final)"
   ]
  },
  {
   "cell_type": "markdown",
   "metadata": {},
   "source": [
    "## Which regions occur most / least frequently?"
   ]
  },
  {
   "cell_type": "code",
   "execution_count": 88,
   "metadata": {},
   "outputs": [
    {
     "data": {
      "text/plain": [
       "Europe      831770\n",
       "Americas    505309\n",
       "Asia        487142\n",
       "Africa       91705\n",
       "Oceania      17374\n",
       "Name: region, dtype: int64"
      ]
     },
     "execution_count": 88,
     "metadata": {},
     "output_type": "execute_result"
    }
   ],
   "source": [
    "# count the total number of times each region occurs\n",
    "# reminder - column names are \"region\" , \"sub-region\" , \"intermediate-region\"\n",
    "df_final['region'].value_counts()"
   ]
  },
  {
   "cell_type": "code",
   "execution_count": 89,
   "metadata": {},
   "outputs": [
    {
     "data": {
      "text/plain": [
       "Northern America                   340624\n",
       "Eastern Asia                       259869\n",
       "Northern Europe                    230682\n",
       "Western Europe                     223448\n",
       "Southern Europe                    197004\n",
       "Eastern Europe                     180636\n",
       "Latin America and the Caribbean    164685\n",
       "Western Asia                       102558\n",
       "Southern Asia                       99948\n",
       "Sub-Saharan Africa                  51658\n",
       "Northern Africa                     40047\n",
       "South-eastern Asia                  20513\n",
       "Australia and New Zealand           12731\n",
       "Central Asia                         4254\n",
       "Melanesia                            2589\n",
       "Micronesia                           1088\n",
       "Polynesia                             966\n",
       "Name: sub-region, dtype: int64"
      ]
     },
     "execution_count": 89,
     "metadata": {},
     "output_type": "execute_result"
    }
   ],
   "source": [
    "df_final['sub-region'].value_counts()"
   ]
  },
  {
   "cell_type": "code",
   "execution_count": 90,
   "metadata": {},
   "outputs": [
    {
     "data": {
      "text/plain": [
       "South America      97353\n",
       "Central America    42778\n",
       "Caribbean          24554\n",
       "Western Africa     15956\n",
       "Eastern Africa     15580\n",
       "Southern Africa    12045\n",
       "Middle Africa       8077\n",
       "Channel Islands      176\n",
       "Name: intermediate-region, dtype: int64"
      ]
     },
     "execution_count": 90,
     "metadata": {},
     "output_type": "execute_result"
    }
   ],
   "source": [
    "df_final['intermediate-region'].value_counts()"
   ]
  },
  {
   "cell_type": "markdown",
   "metadata": {},
   "source": [
    "## Which regions are best / worst represented when measuring by titles? "
   ]
  },
  {
   "cell_type": "code",
   "execution_count": 95,
   "metadata": {},
   "outputs": [
    {
     "name": "stdout",
     "output_type": "stream",
     "text": [
      "     region  catkey\n",
      "3    Europe  569055\n",
      "1  Americas  357815\n",
      "2      Asia  313151\n",
      "0    Africa   60057\n",
      "4   Oceania   12529\n"
     ]
    }
   ],
   "source": [
    "# create a new dataframe with the count of unique catkeys for each region \n",
    "# (in other words, how many bibs total contain a subject from each region)\n",
    "# order by catkey column (which should actually be called \"count_unique_catkey\")\n",
    "df_uni_regions = df_final.groupby('region')['catkey'].nunique().reset_index().sort_values(\"catkey\", ascending=False)\n",
    "print(df_uni_regions)"
   ]
  },
  {
   "cell_type": "code",
   "execution_count": 98,
   "metadata": {},
   "outputs": [
    {
     "name": "stdout",
     "output_type": "stream",
     "text": [
      "     region  count_unique_catkey\n",
      "3    Europe               569055\n",
      "1  Americas               357815\n",
      "2      Asia               313151\n",
      "0    Africa                60057\n",
      "4   Oceania                12529\n"
     ]
    }
   ],
   "source": [
    "# create my final dataframe which has the count in order and the column name changed to \"count_unique_catkey\"\n",
    "df_uni_regions = df_final.groupby('region')['catkey'].nunique().reset_index().sort_values(\"catkey\", ascending=False)\n",
    "df_unireg_final = df_uni_regions.rename(columns={\"region\": \"region\", \"catkey\": \"count_unique_catkey\"})\n",
    "print(df_unireg_final)"
   ]
  },
  {
   "cell_type": "code",
   "execution_count": 102,
   "metadata": {},
   "outputs": [
    {
     "name": "stdout",
     "output_type": "stream",
     "text": [
      "                         sub-region  catkey\n",
      "8                  Northern America  256299\n",
      "9                   Northern Europe  168070\n",
      "2                      Eastern Asia  166883\n",
      "16                   Western Europe  158495\n",
      "13                  Southern Europe  137297\n",
      "3                    Eastern Europe  121393\n",
      "4   Latin America and the Caribbean  106404\n",
      "15                     Western Asia   66942\n",
      "12                    Southern Asia   66143\n",
      "14               Sub-Saharan Africa   33992\n",
      "7                   Northern Africa   26842\n",
      "11               South-eastern Asia   13615\n",
      "0         Australia and New Zealand    9427\n",
      "1                      Central Asia    2746\n",
      "5                         Melanesia    1847\n",
      "10                        Polynesia     706\n",
      "6                        Micronesia     683\n"
     ]
    }
   ],
   "source": [
    "# create a new dataframe with the count of unique catkeys for each sub-region \n",
    "# (in other words, how many bibs total contain a subject from each sub-region )\n",
    "# order by catkey column (which should actually be called \"count_unique_catkey\")\n",
    "df_uni_subregions = df_final.groupby('sub-region')['catkey'].nunique().reset_index().sort_values(\"catkey\", ascending=False)\n",
    "print(df_uni_subregions)"
   ]
  },
  {
   "cell_type": "code",
   "execution_count": 104,
   "metadata": {},
   "outputs": [
    {
     "name": "stdout",
     "output_type": "stream",
     "text": [
      "                         sub-region  count_unique_catkey\n",
      "8                  Northern America               256299\n",
      "9                   Northern Europe               168070\n",
      "2                      Eastern Asia               166883\n",
      "16                   Western Europe               158495\n",
      "13                  Southern Europe               137297\n",
      "3                    Eastern Europe               121393\n",
      "4   Latin America and the Caribbean               106404\n",
      "15                     Western Asia                66942\n",
      "12                    Southern Asia                66143\n",
      "14               Sub-Saharan Africa                33992\n",
      "7                   Northern Africa                26842\n",
      "11               South-eastern Asia                13615\n",
      "0         Australia and New Zealand                 9427\n",
      "1                      Central Asia                 2746\n",
      "5                         Melanesia                 1847\n",
      "10                        Polynesia                  706\n",
      "6                        Micronesia                  683\n"
     ]
    }
   ],
   "source": [
    "# create my final dataframe which has the count in order and the column name changed to \"count_unique_catkey\"\n",
    "df_uni_subregions = df_final.groupby('sub-region')['catkey'].nunique().reset_index().sort_values(\"catkey\", ascending=False)\n",
    "df_unisubreg_final = df_uni_subregions.rename(columns={\"sub-region\": \"sub-region\", \"catkey\": \"count_unique_catkey\"})\n",
    "print(df_unisubreg_final)"
   ]
  },
  {
   "cell_type": "code",
   "execution_count": 105,
   "metadata": {},
   "outputs": [
    {
     "name": "stdout",
     "output_type": "stream",
     "text": [
      "  intermediate-region  catkey\n",
      "5       South America   64031\n",
      "1     Central America   27431\n",
      "0           Caribbean   15739\n",
      "7      Western Africa   10677\n",
      "3      Eastern Africa   10166\n",
      "6     Southern Africa    8135\n",
      "4       Middle Africa    5476\n",
      "2     Channel Islands     139\n"
     ]
    }
   ],
   "source": [
    "# create a new dataframe with the count of unique catkeys for each sub-region \n",
    "# (in other words, how many bibs total contain a subject from each sub-region )\n",
    "# order by catkey column (which should actually be called \"count_unique_catkey\")\n",
    "df_uni_intregions = df_final.groupby('intermediate-region')['catkey'].nunique().reset_index().sort_values(\"catkey\", ascending=False)\n",
    "print(df_uni_intregions)"
   ]
  },
  {
   "cell_type": "code",
   "execution_count": 106,
   "metadata": {},
   "outputs": [
    {
     "name": "stdout",
     "output_type": "stream",
     "text": [
      "  intermediate-region  count_unique_catkey\n",
      "5       South America                64031\n",
      "1     Central America                27431\n",
      "0           Caribbean                15739\n",
      "7      Western Africa                10677\n",
      "3      Eastern Africa                10166\n",
      "6     Southern Africa                 8135\n",
      "4       Middle Africa                 5476\n",
      "2     Channel Islands                  139\n"
     ]
    }
   ],
   "source": [
    "# create my final dataframe which has the count in order and the column name changed to \"count_unique_catkey\"\n",
    "df_uni_intregions = df_final.groupby('intermediate-region')['catkey'].nunique().reset_index().sort_values(\"catkey\", ascending=False)\n",
    "df_uniintreg_final = df_uni_intregions.rename(columns={\"intermediate-region\": \"intermediate-region\", \"catkey\": \"count_unique_catkey\"})\n",
    "print(df_uniintreg_final)"
   ]
  },
  {
   "cell_type": "markdown",
   "metadata": {},
   "source": [
    "## Which countries had the most / least distinct 650$a 's?"
   ]
  },
  {
   "cell_type": "code",
   "execution_count": 172,
   "metadata": {},
   "outputs": [
    {
     "name": "stdout",
     "output_type": "stream",
     "text": [
      "                                               country  count_unique_651\n",
      "0                                                China              5032\n",
      "1    United Kingdom of Great Britain and Northern I...              4733\n",
      "2                                               France              3190\n",
      "3                                                Spain              3034\n",
      "4                                                Italy              2980\n",
      "..                                                 ...               ...\n",
      "243                           Turks and Caicos Islands                 2\n",
      "244                                        South Korea                 2\n",
      "245                                           Bermuda.                 1\n",
      "246                              São Tomé and Príncipe                 1\n",
      "247                          Sint Maarten (Dutch part)                 1\n",
      "\n",
      "[248 rows x 2 columns]\n"
     ]
    }
   ],
   "source": [
    "# create a new dataframe that contains the count of the unique subject heading for each country\n",
    "\n",
    "grouped_651_df = df_final.groupby(\"country\")\n",
    "grouped_651_df_agg = grouped_651_df.agg({\"geoname\": \"nunique\"}).sort_values(\"geoname\", ascending=False)\n",
    "grouped_651_df_reorder = grouped_651_df_agg.reset_index().rename(columns={\"country\": \"country\", \"geoname\": \"count_unique_651\"})\n",
    "print(grouped_651_df_reorder)"
   ]
  },
  {
   "cell_type": "code",
   "execution_count": 175,
   "metadata": {},
   "outputs": [
    {
     "name": "stdout",
     "output_type": "stream",
     "text": [
      "                                               country  count_unique_651\n",
      "0                                                China              5032\n",
      "1    United Kingdom of Great Britain and Northern I...              4733\n",
      "2                                               France              3190\n",
      "3                                                Spain              3034\n",
      "4                                                Italy              2980\n",
      "5                                              Germany              2895\n",
      "6                                                Japan              2155\n",
      "7                                               Poland              1823\n",
      "8                                                India              1801\n",
      "9                                   Multiple_Countries              1756\n",
      "10                                  Russian Federation              1549\n",
      "11                                              Mexico              1302\n",
      "12                                    Historical_Place              1072\n",
      "13                                              Turkey              1067\n",
      "14                                              Brazil               999\n",
      "15                                             Ukraine               887\n",
      "16                                                Peru               587\n",
      "17                                              Israel               520\n",
      "18                                           Argentina               518\n",
      "19                                              Greece               511\n",
      "20                                         Switzerland               483\n",
      "21                                             Czechia               460\n",
      "22                                            Portugal               428\n",
      "23                                             Croatia               417\n",
      "24                                               Egypt               396\n",
      "25                                             Austria               378\n",
      "26                          Iran (Islamic Republic of)               359\n",
      "27                                             Ireland               349\n",
      "28                                              Serbia               340\n",
      "29                                             Hungary               330\n",
      "30                                            Bulgaria               307\n",
      "31                                         Netherlands               293\n",
      "32                                            Colombia               278\n",
      "33                                             Romania               269\n",
      "34                                              Sweden               248\n",
      "35                                            Pakistan               238\n",
      "36                                        South Africa               233\n",
      "37                                             Belgium               215\n",
      "38                                             Lebanon               212\n",
      "39                                             Belarus               210\n",
      "40                           Taiwan, Province of China               210\n",
      "41                                Syrian Arab Republic               206\n",
      "42                                             Nigeria               201\n",
      "43                                           Indonesia               200\n",
      "44                                            Slovenia               196\n",
      "45                                           Guatemala               186\n",
      "46                                          Bangladesh               172\n",
      "47                                        Saudi Arabia               171\n",
      "48                                            Slovakia               169\n",
      "49                                               Alger               159\n",
      "50                  Venezuela (Bolivarian Republic of)               156\n",
      "51                    Bolivia (Plurinational State of)               151\n",
      "52                                                Cuba               150\n",
      "53                                           Australia               148\n",
      "54                                         Philippines               147\n",
      "55                                             Morocco               145\n",
      "56                                             Ecuador               144\n",
      "57                              Bosnia and Herzegovina               143\n",
      "58                                               Chile               142\n",
      "59                                                Iraq               140\n",
      "60                                             Denmark               140\n",
      "61                                              Jordan               140\n",
      "62                                              Norway               133\n",
      "63                                               Sudan               127\n",
      "64                                               Nepal               119\n",
      "65                                             Uruguay               115\n",
      "66                                           Sri Lanka               110\n",
      "67                                    Papua New Guinea               105\n",
      "68                                               Kenya               103\n",
      "69                                         Afghanistan               102\n",
      "70                                           Lithuania               100\n",
      "71                                               Yemen                95\n",
      "72                                              Cyprus                92\n",
      "73                                             Tunisia                92\n",
      "74                                             Finland                91\n",
      "75                                     North Macedonia                91\n",
      "76                                            Viet Nam                88\n",
      "77                                              Canada                86\n",
      "78                            United States of America                82\n",
      "79                        Tanzania, United Republic of                80\n",
      "80                                            Ethiopia                79\n",
      "81                                            Paraguay                77\n",
      "82                                          Montenegro                73\n",
      "83                                            Cameroon                71\n",
      "84                                  Dominican Republic                68\n",
      "85                                            Thailand                67\n",
      "86                                               Ghana                60\n",
      "87                                          Costa Rica                57\n",
      "88                   Congo, Democratic Republic of the                55\n",
      "89                                             Senegal                51\n",
      "90                                             Georgia                51\n",
      "91                                         El Salvador                50\n",
      "92                                              Panama                49\n",
      "93                                                Mali                49\n",
      "94                                            Honduras                48\n",
      "95                                 Palestine, State of                47\n",
      "96                                            Malaysia                46\n",
      "97                                            Mongolia                46\n",
      "98                                             Iceland                46\n",
      "99                                               Libya                45\n",
      "100                                         Antarctica                44\n",
      "101                                           Zimbabwe                44\n",
      "102                                         Kazakhstan                43\n",
      "103                                             Uganda                41\n",
      "104                   Micronesia (Federated States of)                41\n",
      "105                                             Belize                41\n",
      "106                               United Arab Emirates                40\n",
      "107                                          Nicaragua                40\n",
      "108                               Moldova, Republic of                40\n",
      "109                                         Mozambique                37\n",
      "110                                               Oman                37\n",
      "111                                          Greenland                37\n",
      "112                                             Latvia                36\n",
      "113                                            Myanmar                36\n",
      "114                                              Niger                35\n",
      "115                                         Madagascar                34\n",
      "116                                         Uzbekistan                34\n",
      "117                                             Zambia                33\n",
      "118                                      Côte d'Ivoire                33\n",
      "119                                            Namibia                33\n",
      "120                                              Haiti                32\n",
      "121                                             Angola                28\n",
      "122                                       Burkina Faso                27\n",
      "123                              Virgin Islands (U.S.)                26\n",
      "124                                         Mauritania                26\n",
      "125                                              Malta                25\n",
      "126                                         Azerbaijan                25\n",
      "127                                               Chad                24\n",
      "128                                           Botswana                24\n",
      "129                                       Turkmenistan                24\n",
      "130                   Lao People's Democratic Republic                23\n",
      "131                                              Benin                23\n",
      "132                                            Bahamas                23\n",
      "133                                               Fiji                22\n",
      "134                                   French Polynesia                22\n",
      "135                                             Guinea                22\n",
      "136                                            Jamaica                22\n",
      "137                                              Congo                21\n",
      "138                                            Armenia                21\n",
      "139                                             Kosovo                21\n",
      "140                                            Albania                21\n",
      "141                                    Solomon Islands                20\n",
      "142                                             Guyana                20\n",
      "143                                               Togo                20\n",
      "144                                      French Guiana                19\n",
      "145                                         Guadeloupe                19\n",
      "146                                          Hong Kong                18\n",
      "147                                         Luxembourg                17\n",
      "148                                             Malawi                17\n",
      "149                                         Tajikistan                17\n",
      "150                                        New Zealand                16\n",
      "151                                Trinidad and Tobago                16\n",
      "152                                         Kyrgyzstan                16\n",
      "153                                      Guinea-Bissau                15\n",
      "154                                            Vanuatu                15\n",
      "155                                            Somalia                14\n",
      "156                                      New Caledonia                14\n",
      "157                                            Bahrain                14\n",
      "158                                           Kiribati                13\n",
      "159                                         Martinique                13\n",
      "160                                             Rwanda                13\n",
      "161                                              Gabon                13\n",
      "162                                       Vatican City                13\n",
      "163                                          Singapore                12\n",
      "164                                           Cambodia                12\n",
      "165                                       Cook Islands                12\n",
      "166                                              Tonga                12\n",
      "167                                            Réunion                11\n",
      "168                                       Sierra Leone                11\n",
      "169                           Central African Republic                11\n",
      "170                                             Kuwait                11\n",
      "171                                            Bermuda                10\n",
      "172                   Bonaire, Sint Eustatius and Saba                10\n",
      "173                                         Cabo Verde                10\n",
      "174                                         Gaza Strip                10\n",
      "175                                              Samoa                 9\n",
      "176       Saint Helena, Ascension and Tristan da Cunha                 9\n",
      "177                              Saint Kitts and Nevis                 9\n",
      "178                          Saint Pierre and Miquelon                 9\n",
      "179                                              Palau                 9\n",
      "180                           Northern Mariana Islands                 9\n",
      "181                                           Barbados                 9\n",
      "182                                   Marshall Islands                 9\n",
      "183                                         Seychelles                 8\n",
      "184                                             Gambia                 8\n",
      "185                                        Timor-Leste                 8\n",
      "186                                          Mauritius                 8\n",
      "187                                           Djibouti                 8\n",
      "188                                               Guam                 8\n",
      "189                                            Eritrea                 7\n",
      "190                                Antigua and Barbuda                 7\n",
      "191                                        Puerto Rico                 7\n",
      "192                                        Isle of Man                 7\n",
      "193                                            Tokelau                 7\n",
      "194                                            Liberia                 7\n",
      "195                                  Equatorial Guinea                 7\n",
      "196                                  Wallis and Futuna                 6\n",
      "197                                         Montserrat                 6\n",
      "198                                     American Samoa                 6\n",
      "199                   Saint Vincent and the Grenadines                 6\n",
      "200                                            Comoros                 5\n",
      "201                           Virgin Islands (British)                 5\n",
      "202                                             Monaco                 5\n",
      "203                                      Liechtenstein                 5\n",
      "204                               Netherlands Antilles                 5\n",
      "205                                            Lesotho                 5\n",
      "206                                            Grenada                 5\n",
      "207                                           Pitcairn                 5\n",
      "208                        Falkland Islands (Malvinas)                 5\n",
      "209                              Sao Tome and Principe                 5\n",
      "210                                             Tuvalu                 5\n",
      "211                                           Dominica                 5\n",
      "212                                          Gibraltar                 4\n",
      "213                                           Anguilla                 4\n",
      "214                                  Brunei Darussalam                 4\n",
      "215                                              Aruba                 4\n",
      "216       South Georgia and the South Sandwich Islands                 4\n",
      "217                                           Guernsey                 4\n",
      "218                                            Burundi                 4\n",
      "219                                        Saint Lucia                 4\n",
      "220                         Saint Martin (French part)                 4\n",
      "221                                             Bhutan                 4\n",
      "222                                              Qatar                 4\n",
      "223                                        South Sudan                 4\n",
      "224                             Svalbard and Jan Mayen                 4\n",
      "225                                        North Korea                 3\n",
      "226                                             Jersey                 3\n",
      "227                                         San Marino                 3\n",
      "228                                      Faroe Islands                 3\n",
      "229                                           Eswatini                 3\n",
      "230                                              Macao                 3\n",
      "231                     British Indian Ocean Territory                 3\n",
      "232                                           Suriname                 3\n",
      "233                                           Maldives                 3\n",
      "234                                            Mayotte                 3\n",
      "235                                     Cayman Islands                 3\n",
      "236                                              Nauru                 2\n",
      "237                  Heard Island and McDonald Islands                 2\n",
      "238                            Cocos (Keeling) Islands                 2\n",
      "239                                               Niue                 2\n",
      "240                                     Norfolk Island                 2\n",
      "241                                            Andorra                 2\n",
      "242                                   Saint Barthélemy                 2\n",
      "243                           Turks and Caicos Islands                 2\n",
      "244                                        South Korea                 2\n",
      "245                                           Bermuda.                 1\n",
      "246                              São Tomé and Príncipe                 1\n",
      "247                          Sint Maarten (Dutch part)                 1\n"
     ]
    }
   ],
   "source": [
    "print(grouped_651_df_reorder.to_string())"
   ]
  },
  {
   "cell_type": "markdown",
   "metadata": {},
   "source": [
    "# Visually communicate findings "
   ]
  },
  {
   "cell_type": "markdown",
   "metadata": {},
   "source": [
    "### Reminder of the df names:\n",
    "df_final - entire dataset\n",
    "df_unicon_final - count of unique catkeys for each country \n",
    "df_unireg_final - count of unique catkeys for each region  \n",
    "df_unisubreg_final - count of unique catkeys for each sub-region  \n",
    "df_uniintreg_final - count of unique catkeys for each intermediate-region  \n",
    "\n",
    "### Didn't declare a df yet, but could\n",
    "df_final['country'].value_counts() - count the total number of times each country occurs\n",
    "df_final['region'].value_counts() - count the total number of times each region occurs\n",
    "df_final['sub-region'].value_counts() - count the total number of times each sub-region occurs\n",
    "df_final['intermediate-region'].value_counts() - count the total number of times each intermediate-region occurs"
   ]
  },
  {
   "cell_type": "code",
   "execution_count": 131,
   "metadata": {},
   "outputs": [
    {
     "data": {
      "text/plain": [
       "Text(0.5, 1.0, 'Count of unique catkeys for top 10 countries')"
      ]
     },
     "execution_count": 131,
     "metadata": {},
     "output_type": "execute_result"
    },
    {
     "data": {
      "image/png": "[encoded data removed]",
      "text/plain": [
       "<Figure size 432x288 with 1 Axes>"
      ]
     },
     "metadata": {
      "needs_background": "light"
     },
     "output_type": "display_data"
    }
   ],
   "source": [
    "ax = df_unicon_final.head(10).plot.bar(x='country')\n",
    "ax.set_xlabel(\"country\")\n",
    "ax.set_ylabel('count')\n",
    "ax.set_title('Count of unique catkeys for top 10 countries')"
   ]
  },
  {
   "cell_type": "code",
   "execution_count": 132,
   "metadata": {},
   "outputs": [
    {
     "data": {
      "text/plain": [
       "Text(0.5, 1.0, 'Count of unique catkeys for lowest 10 countries')"
      ]
     },
     "execution_count": 132,
     "metadata": {},
     "output_type": "execute_result"
    },
    {
     "data": {
      "image/png": "[encoded data removed]",
      "text/plain": [
       "<Figure size 432x288 with 1 Axes>"
      ]
     },
     "metadata": {
      "needs_background": "light"
     },
     "output_type": "display_data"
    }
   ],
   "source": [
    "ax = df_unicon_final.tail(10).plot.bar(x='country')\n",
    "ax.set_xlabel(\"country\")\n",
    "ax.set_ylabel('count')\n",
    "ax.set_title('Count of unique catkeys for lowest 10 countries')"
   ]
  },
  {
   "cell_type": "code",
   "execution_count": 116,
   "metadata": {},
   "outputs": [
    {
     "data": {
      "text/plain": [
       "Text(0.5, 1.0, 'Count of unique catkeys for each region')"
      ]
     },
     "execution_count": 116,
     "metadata": {},
     "output_type": "execute_result"
    },
    {
     "data": {
      "image/png": "[encoded data removed]",
      "text/plain": [
       "<Figure size 432x288 with 1 Axes>"
      ]
     },
     "metadata": {
      "needs_background": "light"
     },
     "output_type": "display_data"
    }
   ],
   "source": [
    "ax = df_unireg_final.plot.bar(x='region')\n",
    "ax.set_xlabel(\"region\")\n",
    "ax.set_ylabel('count')\n",
    "ax.set_title('Count of unique catkeys for each region')"
   ]
  },
  {
   "cell_type": "code",
   "execution_count": 117,
   "metadata": {},
   "outputs": [
    {
     "data": {
      "text/plain": [
       "Text(0.5, 1.0, 'Count of unique catkeys for each sub-region')"
      ]
     },
     "execution_count": 117,
     "metadata": {},
     "output_type": "execute_result"
    },
    {
     "data": {
      "image/png": "[encoded data removed]",
      "text/plain": [
       "<Figure size 432x288 with 1 Axes>"
      ]
     },
     "metadata": {
      "needs_background": "light"
     },
     "output_type": "display_data"
    }
   ],
   "source": [
    "ax = df_unisubreg_final.plot.bar(x='sub-region')\n",
    "ax.set_xlabel(\"sub-region\")\n",
    "ax.set_ylabel('count')\n",
    "ax.set_title('Count of unique catkeys for each sub-region')"
   ]
  },
  {
   "cell_type": "code",
   "execution_count": 118,
   "metadata": {},
   "outputs": [
    {
     "data": {
      "text/plain": [
       "Text(0.5, 1.0, 'Count of unique catkeys for each intermediate-region')"
      ]
     },
     "execution_count": 118,
     "metadata": {},
     "output_type": "execute_result"
    },
    {
     "data": {
      "image/png": "[encoded data removed]",
      "text/plain": [
       "<Figure size 432x288 with 1 Axes>"
      ]
     },
     "metadata": {
      "needs_background": "light"
     },
     "output_type": "display_data"
    }
   ],
   "source": [
    "ax = df_uniintreg_final.plot.bar(x='intermediate-region')\n",
    "ax.set_xlabel(\"intermediate-region\")\n",
    "ax.set_ylabel('count')\n",
    "ax.set_title('Count of unique catkeys for each intermediate-region')"
   ]
  },
  {
   "cell_type": "code",
   "execution_count": 129,
   "metadata": {},
   "outputs": [
    {
     "data": {
      "text/plain": [
       "Text(0.5, 1.0, 'Count of total occurences for each country')"
      ]
     },
     "execution_count": 129,
     "metadata": {},
     "output_type": "execute_result"
    },
    {
     "data": {
      "image/png": "[encoded data removed]",
      "text/plain": [
       "<Figure size 432x288 with 1 Axes>"
      ]
     },
     "metadata": {
      "needs_background": "light"
     },
     "output_type": "display_data"
    }
   ],
   "source": [
    "df_totalcountries = df_final['country'].value_counts().head(15)\n",
    "ax = df_totalcountries.plot.bar(x='country')\n",
    "ax.set_xlabel(\"country\")\n",
    "ax.set_ylabel('count')\n",
    "ax.set_title('Count of total occurences for each country')"
   ]
  },
  {
   "cell_type": "code",
   "execution_count": 130,
   "metadata": {},
   "outputs": [
    {
     "data": {
      "text/plain": [
       "Text(0.5, 1.0, 'Count of total catkeys for each country')"
      ]
     },
     "execution_count": 130,
     "metadata": {},
     "output_type": "execute_result"
    },
    {
     "data": {
      "image/png": "[encoded data removed]",
      "text/plain": [
       "<Figure size 432x288 with 1 Axes>"
      ]
     },
     "metadata": {
      "needs_background": "light"
     },
     "output_type": "display_data"
    }
   ],
   "source": [
    "df_totalcountries = df_final['country'].value_counts().tail(15)\n",
    "ax = df_totalcountries.plot.bar(x='country')\n",
    "ax.set_xlabel(\"country\")\n",
    "ax.set_ylabel('count')\n",
    "ax.set_title('Count of total catkeys for each country')"
   ]
  },
  {
   "cell_type": "code",
   "execution_count": 133,
   "metadata": {},
   "outputs": [
    {
     "data": {
      "text/plain": [
       "Text(0.5, 1.0, 'Count of total catkeys for each region')"
      ]
     },
     "execution_count": 133,
     "metadata": {},
     "output_type": "execute_result"
    },
    {
     "data": {
      "image/png": "[encoded data removed]",
      "text/plain": [
       "<Figure size 432x288 with 1 Axes>"
      ]
     },
     "metadata": {
      "needs_background": "light"
     },
     "output_type": "display_data"
    }
   ],
   "source": [
    "df_totalregion = df_final['region'].value_counts()\n",
    "ax = df_totalregion.plot.bar(x='region')\n",
    "ax.set_xlabel(\"region\")\n",
    "ax.set_ylabel('count')\n",
    "ax.set_title('Count of total catkeys for each region')"
   ]
  },
  {
   "cell_type": "code",
   "execution_count": 139,
   "metadata": {},
   "outputs": [
    {
     "data": {
      "text/plain": [
       "<matplotlib.axes._subplots.AxesSubplot at 0x11e5e6490>"
      ]
     },
     "execution_count": 139,
     "metadata": {},
     "output_type": "execute_result"
    },
    {
     "data": {
      "image/png": "[encoded data removed]",
      "text/plain": [
       "<Figure size 720x720 with 1 Axes>"
      ]
     },
     "metadata": {
      "needs_background": "light"
     },
     "output_type": "display_data"
    }
   ],
   "source": [
    "df_final['country'].value_counts()[:50].plot(kind='barh', figsize = (10,10))"
   ]
  }
 ],
 "metadata": {
  "kernelspec": {
   "display_name": "Python 3",
   "language": "python",
   "name": "python3"
  },
  "language_info": {
   "codemirror_mode": {
    "name": "ipython",
    "version": 3
   },
   "file_extension": ".py",
   "mimetype": "text/x-python",
   "name": "python",
   "nbconvert_exporter": "python",
   "pygments_lexer": "ipython3",
   "version": "3.7.4"
  }
 },
 "nbformat": 4,
 "nbformat_minor": 2
}
